{
 "cells": [
  {
   "cell_type": "markdown",
   "id": "43f2e752-d815-440c-9164-312ed8a06e19",
   "metadata": {},
   "source": [
    "# NHS KPI Categorisation & Simulation Project\n"
   ]
  },
  {
   "cell_type": "markdown",
   "id": "ecde755f-b8d8-43ad-8218-c9be2fc1dd46",
   "metadata": {},
   "source": [
    "### KPI Performance Category Definitions\r\n",
    "\r\n",
    "| Category  | Meaning                                                                 | Example Criteria                         |\r\n",
    "|-----------|-------------------------------------------------------------------------|------------------------------------------|\r\n",
    "| **Gold**  | Highest performance; exceeds expected target                           | Compliance \u2265 95%                         |\r\n",
    "| **Silver**| Acceptable performance; meets standard but not optimal                 | Compliance between 90\u201394%                |\r\n",
    "| **Bronze**| Below expectation; needs improvement                                    | Compliance between 85\u201389%                |\r\n",
    "| **White** | Unclassified or undefined; outside all thresholds or missing/incomplete | No value, out-of-band, or ambiguous data |\r\n",
    "| **Manual**| Not evaluated automatically; requires human review                     | Text thresholds like \u201cMore than comparator\u201d |\r\n"
   ]
  },
  {
   "cell_type": "code",
   "execution_count": null,
   "id": "9dee5eef-da6d-4180-aecd-ffb8a6170073",
   "metadata": {
    "execution": {
     "iopub.execute_input": "2025-06-02T19:18:16.659914Z",
     "iopub.status.busy": "2025-06-02T19:18:16.659566Z",
     "iopub.status.idle": "2025-06-02T19:18:17.521557Z",
     "shell.execute_reply": "2025-06-02T19:18:17.520940Z",
     "shell.execute_reply.started": "2025-06-02T19:18:16.659893Z"
    }
   },
   "outputs": [],
   "source": [
    "# Import necessary libraries\n",
    "import pandas as pd\n",
    "from IPython.display import display\n",
    "import matplotlib.pyplot as plt\n",
    "import seaborn as sns\n",
    "import warnings\n",
    "\n",
    "# Suppress warning messages for cleaner output\n",
    "warnings.filterwarnings(\"ignore\")"
   ]
  },
  {
   "cell_type": "markdown",
   "id": "54f7fea7-05d8-4667-8d95-0769474f3f13",
   "metadata": {},
   "source": [
    "### Step 1: Load KPI Data\n",
    "Begin by loading the core dataset containing ward-level KPI values. Each row represents a monthly measurement for a specific KPI in a given ward.  \r\n",
    "The goal is to later classify these values into performance categories (Gold, Silver, etc.) based on standard thresholds.\r\n",
    "\r\n",
    "**Columns overview**:\r\n",
    "- `Ward`: Name of the unit or ward  \r\n",
    "- `KPI_Name`: The specific key performance indicator  \r\n",
    "- `Year` and `Month`: Time period of the KPI recording  \r\n",
    "- `KPI_Value`: The recorded value, which may be a percenumber or text or score\r\n"
   ]
  },
  {
   "cell_type": "code",
   "execution_count": null,
   "id": "04718bf1-049b-4683-ada5-9952fff15373",
   "metadata": {
    "execution": {
     "iopub.execute_input": "2025-06-02T19:18:17.536359Z",
     "iopub.status.busy": "2025-06-02T19:18:17.536073Z",
     "iopub.status.idle": "2025-06-02T19:18:17.550421Z",
     "shell.execute_reply": "2025-06-02T19:18:17.549840Z",
     "shell.execute_reply.started": "2025-06-02T19:18:17.536338Z"
    }
   },
   "outputs": [],
   "source": [
    "# Load KPI data\n",
    "kpi_data = pd.read_csv(\"KPI_Data_2024.csv\")\n",
    "print(\"KPI Data Sample:\")\n",
    "display(kpi_data.head())"
   ]
  },
  {
   "cell_type": "markdown",
   "id": "c1bba936-c5ae-4a30-826f-92cf2a57c733",
   "metadata": {
    "execution": {
     "iopub.execute_input": "2025-05-23T20:41:34.542182Z",
     "iopub.status.busy": "2025-05-23T20:41:34.541782Z",
     "iopub.status.idle": "2025-05-23T20:41:34.547760Z",
     "shell.execute_reply": "2025-05-23T20:41:34.547006Z",
     "shell.execute_reply.started": "2025-05-23T20:41:34.542156Z"
    }
   },
   "source": [
    "### Step 2: Load KPI Thresholds\n",
    "\n",
    "Now load a reference table that defines performance thresholds for each KPI.  \n",
    "These thresholds determine what constitutes \"Gold\", \"Silver\", \"Bronze\", etc., and the expected direction (high/low). Some KPIs are flagged as \"manual\" and will be excluded from logic-based classification.\n",
    "\n",
    "**Columns include**:\n",
    "- `KPI_Name`: Matching key with the KPI data\n",
    "- `Direction`: Whether higher or lower values are better\n",
    "-  Thresholds for each category band\n",
    "- `Manual_Flag`: Indicates if manual review is needed"
   ]
  },
  {
   "cell_type": "code",
   "execution_count": null,
   "id": "f6dd9c37-266c-48c3-9fe9-99bc8672ca24",
   "metadata": {
    "execution": {
     "iopub.execute_input": "2025-06-02T19:18:17.567239Z",
     "iopub.status.busy": "2025-06-02T19:18:17.566953Z",
     "iopub.status.idle": "2025-06-02T19:18:17.581207Z",
     "shell.execute_reply": "2025-06-02T19:18:17.580452Z",
     "shell.execute_reply.started": "2025-06-02T19:18:17.567218Z"
    }
   },
   "outputs": [],
   "source": [
    "# Load Thresholds data\n",
    "thresholds = pd.read_csv(\"KPI_Threshold_Lookup_Table.csv\")\n",
    "\n",
    "print(\"\\nThreshold Table Sample:\")\n",
    "display(thresholds.head())"
   ]
  },
  {
   "cell_type": "markdown",
   "id": "8ffe74a3-3680-4146-8045-03c8e8ae9402",
   "metadata": {},
   "source": [
    "### Step 3: Inspect KPI Data Types and Value Format\r\n",
    "\r\n",
    "Before applying classification logic, it's important to ensure the `KPI_Value` column contains valid numeric entries.  \r\n",
    "Threshold comparisons rely on numerical values, and mixed or invalid formats may lead to incorrect categorisation.\r\n",
    "\r\n",
    "- The data types of each column are reviewed to confirm structural consistency.\r\n",
    "- Any non-numeric entries in `KPI_Value` are identified and displayed for further attetion.\r\n",
    "view.\r\n"
   ]
  },
  {
   "cell_type": "code",
   "execution_count": null,
   "id": "da595d18-f4e9-4f42-b468-d40312ef2b7f",
   "metadata": {
    "execution": {
     "iopub.execute_input": "2025-06-02T19:18:17.598552Z",
     "iopub.status.busy": "2025-06-02T19:18:17.598292Z",
     "iopub.status.idle": "2025-06-02T19:18:17.607282Z",
     "shell.execute_reply": "2025-06-02T19:18:17.606710Z",
     "shell.execute_reply.started": "2025-06-02T19:18:17.598533Z"
    }
   },
   "outputs": [],
   "source": [
    "# Check data types of KPI data\n",
    "display(kpi_data.dtypes)\n",
    "\n",
    "print(\"-----------------------------\")\n",
    "# Identify non-numeric entries in KPI_Value column\n",
    "non_numeric_rows = kpi_data[~kpi_data['KPI_Value'].apply(lambda x: pd.to_numeric(x, errors='coerce')).notnull()]\n",
    "\n",
    "print(non_numeric_rows)"
   ]
  },
  {
   "cell_type": "markdown",
   "id": "dcad168c-f470-439f-b75d-9f0b8a47d08d",
   "metadata": {},
   "source": [
    "### Step 4: Confirm KPI Name Consistency and Merge Datasets\r\n",
    "\r\n",
    "Before merging the KPI data with the threshold lookup table, it's useful to confirm that all `KPI_Name` values match correctly between both sources.  \r\n",
    "This avoids join issues and ensures each KPI receives the appropriate threshold logic.\r\n",
    "\r\n",
    "- A left join is used to retain all rows from the main dataset.\r\n",
    "- The merged dataset includes additional columns such as `Direction`, thresholds for each category, and the manualflag.\r\n"
   ]
  },
  {
   "cell_type": "code",
   "execution_count": null,
   "id": "b83f944d-74e2-404b-9d11-294de9d9482f",
   "metadata": {
    "execution": {
     "iopub.execute_input": "2025-06-02T19:18:17.624928Z",
     "iopub.status.busy": "2025-06-02T19:18:17.624631Z",
     "iopub.status.idle": "2025-06-02T19:18:17.642503Z",
     "shell.execute_reply": "2025-06-02T19:18:17.641801Z",
     "shell.execute_reply.started": "2025-06-02T19:18:17.624907Z"
    },
    "scrolled": true
   },
   "outputs": [],
   "source": [
    "# Display unique KPI names from both datasets to verify alignment\n",
    "print(\"Unique KPI Names in KPI Data:\")\n",
    "print(kpi_data['KPI_Name'].unique())\n",
    "\n",
    "print(\"\\nUnique KPI Names in Threshold Table:\")\n",
    "print(thresholds['KPI_Name'].unique())\n",
    "\n",
    "# Merge KPI data with thresholds using KPI name\n",
    "merged_data = pd.merge(kpi_data, thresholds, on='KPI_Name', how='left')\n",
    "\n",
    "print(\"\\nMerged Data Sample:\")\n",
    "display(merged_data.head())"
   ]
  },
  {
   "cell_type": "markdown",
   "id": "0b89185b-c128-46d8-b929-b966fddc17e6",
   "metadata": {},
   "source": [
    "### Step 5: Validate Merge \u2013 Check for Missing Thresholds\r\n",
    "\r\n",
    "After merging, it's important to confirm that all `KPI_Name` values were successfully matched with a threshold definition.  \r\n",
    "This check filters for any rows where `Direction` is missing, indicating an unmatched or undefined KPI.\r\n",
    "\r\n",
    "An empty result confirms that all KPIs in the dataset have corresponding threshold logic availble.\r\n"
   ]
  },
  {
   "cell_type": "code",
   "execution_count": null,
   "id": "f4d43452-eadd-4f36-b01b-9643984015fd",
   "metadata": {
    "execution": {
     "iopub.execute_input": "2025-06-02T19:18:17.660266Z",
     "iopub.status.busy": "2025-06-02T19:18:17.660005Z",
     "iopub.status.idle": "2025-06-02T19:18:17.665148Z",
     "shell.execute_reply": "2025-06-02T19:18:17.664259Z",
     "shell.execute_reply.started": "2025-06-02T19:18:17.660246Z"
    }
   },
   "outputs": [],
   "source": [
    "# Identify any KPI records that did not match a threshold (missing direction)\n",
    "missing_thresholds = merged_data[merged_data['Direction'].isnull()]\n",
    "\n",
    "print(\"\\nRows with missing threshold match:\")\n",
    "print(missing_thresholds)"
   ]
  },
  {
   "cell_type": "markdown",
   "id": "c396243e-b244-4b25-80a4-5fc1499c0689",
   "metadata": {},
   "source": [
    "### Step 6: Define Categorisation Logic\r\n",
    "\r\n",
    "This function assigns each KPI record to a performance category based on predefined thresholds.\r\n",
    "\r\n",
    "- If a KPI is flagged as \"Manual\", it is assigned that category directly.\r\n",
    "- If `Direction` is \"high\", higher values are better.\r\n",
    "- If `Direction` is \"low\", lower values are better.\r\n",
    "- Values falling outside all threshold ranges are marked as \"White\" (unclassfied).\r\n"
   ]
  },
  {
   "cell_type": "code",
   "execution_count": null,
   "id": "65f71f29-03ce-41dc-bb21-c9e752d31294",
   "metadata": {
    "execution": {
     "iopub.execute_input": "2025-06-02T19:18:17.683833Z",
     "iopub.status.busy": "2025-06-02T19:18:17.683360Z",
     "iopub.status.idle": "2025-06-02T19:18:17.693032Z",
     "shell.execute_reply": "2025-06-02T19:18:17.692336Z",
     "shell.execute_reply.started": "2025-06-02T19:18:17.683812Z"
    }
   },
   "outputs": [],
   "source": [
    "def assign_category(row):\n",
    "    \"\"\"\n",
    "    Assigns a KPI to Gold, Silver, Bronze, White, or Manual based on its value, direction, and thresholds.\n",
    "    \"\"\"\n",
    "    if row['Manual_Flag'] == \"Yes\":\n",
    "        return \"Manual\"\n",
    "\n",
    "    value = row['KPI_Value']\n",
    "    if pd.isna(value):\n",
    "        return \"White\"\n",
    "\n",
    "    direction = row['Direction']\n",
    "\n",
    "    if direction == \"high\":\n",
    "        if value >= row['Gold_Threshold']:\n",
    "            return \"Gold\"\n",
    "        elif row['Silver_Min'] <= value <= row['Silver_Max']:\n",
    "            return \"Silver\"\n",
    "        elif row['Bronze_Min'] <= value <= row['Bronze_Max']:\n",
    "            return \"Bronze\"\n",
    "        else:\n",
    "            return \"White\"\n",
    "\n",
    "    elif direction == \"low\":\n",
    "        if value <= row['Gold_Threshold']:\n",
    "            return \"Gold\"\n",
    "        elif row['Silver_Max'] <= value <= row['Silver_Min']:\n",
    "            return \"Silver\"\n",
    "        elif row['Bronze_Max'] <= value <= row['Bronze_Min']:\n",
    "            return \"Bronze\"\n",
    "        else:\n",
    "            return \"White\"\n",
    "\n",
    "    return \"White\"  # Fallback"
   ]
  },
  {
   "cell_type": "markdown",
   "id": "c2b16b2a-e3ae-4976-9396-febb6af953c0",
   "metadata": {},
   "source": [
    "### Step 7: Apply Categorisation Logic to KPI Records\n",
    "\n",
    "The `assign_category` function is applied row-wise to the merged dataset to assign a performance category to each KPI entry.  \n",
    "This results in a new column called `Assigned_Category`.\n",
    "\n",
    "The table below shows the first 10 categorised rows for validation."
   ]
  },
  {
   "cell_type": "code",
   "execution_count": null,
   "id": "33b38127-4e20-41ef-826b-97c7be612f9b",
   "metadata": {
    "execution": {
     "iopub.execute_input": "2025-06-02T19:18:17.711872Z",
     "iopub.status.busy": "2025-06-02T19:18:17.711617Z",
     "iopub.status.idle": "2025-06-02T19:18:17.743036Z",
     "shell.execute_reply": "2025-06-02T19:18:17.742471Z",
     "shell.execute_reply.started": "2025-06-02T19:18:17.711853Z"
    }
   },
   "outputs": [],
   "source": [
    "# Apply categorisation logic to each row\n",
    "merged_data['Assigned_Category'] = merged_data.apply(assign_category, axis=1)\n",
    "\n",
    "# Preview categorised results\n",
    "print(\"Categorised Sample:\")\n",
    "display(merged_data[['Ward', 'KPI_Name', 'Month', 'KPI_Value', 'Assigned_Category']].head(10))"
   ]
  },
  {
   "cell_type": "markdown",
   "id": "15dc64f3-a250-4912-b4b2-2ea2f6e218ba",
   "metadata": {},
   "source": [
    "## _Categorised Output for Dashboarding_ ##"
   ]
  },
  {
   "cell_type": "code",
   "execution_count": null,
   "id": "ed71319a-2c2c-48c3-b3b0-39b3b31fe25c",
   "metadata": {
    "execution": {
     "iopub.execute_input": "2025-06-02T19:18:17.744214Z",
     "iopub.status.busy": "2025-06-02T19:18:17.743890Z",
     "iopub.status.idle": "2025-06-02T19:18:17.953651Z",
     "shell.execute_reply": "2025-06-02T19:18:17.953043Z",
     "shell.execute_reply.started": "2025-06-02T19:18:17.744194Z"
    }
   },
   "outputs": [],
   "source": [
    "# Export categorised KPI data to Excel\n",
    "categorised_output = merged_data[['Ward', 'KPI_Name', 'Month', 'KPI_Value', 'Assigned_Category']]\n",
    "categorised_output.to_excel('Categorised_KPI_Results.xlsx', index=False)\n",
    "\n",
    "print(\"Export complete. File saved as 'Categorised_KPI_Results.xlsx'\")"
   ]
  },
  {
   "cell_type": "markdown",
   "id": "d529e20c-60fa-45af-bbc3-43aa1778582f",
   "metadata": {},
   "source": [
    "### Step 8: Generate Category Counts by Ward and Month\r\n",
    "\r\n",
    "This summary table shows the number of KPIs assigned to each category (Gold, Silver, Bronze, etc.) for every ward and month.  \r\n",
    "It provides a quick overview of overall performance distribution at the ward levl.\r\n"
   ]
  },
  {
   "cell_type": "code",
   "execution_count": null,
   "id": "6e74cb4a-983d-4a48-ba79-1c1b7ef698e7",
   "metadata": {
    "execution": {
     "iopub.execute_input": "2025-06-02T19:18:17.973238Z",
     "iopub.status.busy": "2025-06-02T19:18:17.972967Z",
     "iopub.status.idle": "2025-06-02T19:18:17.986848Z",
     "shell.execute_reply": "2025-06-02T19:18:17.986229Z",
     "shell.execute_reply.started": "2025-06-02T19:18:17.973218Z"
    }
   },
   "outputs": [],
   "source": [
    "# Count number of KPIs in each category for each Ward-Month combination\n",
    "category_counts = merged_data.groupby(['Ward', 'Month', 'Assigned_Category']).size().unstack(fill_value=0).reset_index()\n",
    "\n",
    "print(\"Category counts per Ward + Month:\")\n",
    "display(category_counts.head())"
   ]
  },
  {
   "cell_type": "markdown",
   "id": "56ba7d3b-13e7-4d81-b637-f1f99115f86f",
   "metadata": {},
   "source": [
    "### Step 9: Calculate Category Distribution as Percentages\n",
    "\n",
    "To assess overall annual performance, the total count of each KPI category is summed for each ward across all months.  \n",
    "These totals are then converted into percentages to represent the distribution of KPI outcomes per ward.\n",
    "\n",
    "This helps quickly identify which wards perform consistently well (e.g. higher % Gold) or may need support (e.g. higher % White or Manual)."
   ]
  },
  {
   "cell_type": "code",
   "execution_count": null,
   "id": "df0de17b-98bb-4cab-bc46-5244f381f33c",
   "metadata": {
    "execution": {
     "iopub.execute_input": "2025-06-02T19:18:18.010314Z",
     "iopub.status.busy": "2025-06-02T19:18:18.010022Z",
     "iopub.status.idle": "2025-06-02T19:18:18.023137Z",
     "shell.execute_reply": "2025-06-02T19:18:18.022457Z",
     "shell.execute_reply.started": "2025-06-02T19:18:18.010292Z"
    }
   },
   "outputs": [],
   "source": [
    "# Step 1: Sum all category counts by ward (across all months)\n",
    "ward_summary = category_counts.groupby('Ward')[['Gold', 'Silver', 'Bronze', 'Manual', 'White']].sum()\n",
    "\n",
    "# Step 2: Convert to percentage distribution per ward\n",
    "ward_percent = ward_summary.div(ward_summary.sum(axis=1), axis=0) * 100\n",
    "ward_percent = ward_percent.round(0).astype(int)\n",
    "\n",
    "# Preview the percentage table\n",
    "print(\"Category % by Ward (Annual Summary):\")\n",
    "display(ward_percent.head())"
   ]
  },
  {
   "cell_type": "code",
   "execution_count": null,
   "id": "20548b96-32c4-473b-b1b8-288d27cc2e55",
   "metadata": {},
   "outputs": [],
   "source": []
  },
  {
   "cell_type": "markdown",
   "id": "b41499a9-24fb-4d39-b854-181e0f66589c",
   "metadata": {},
   "source": [
    "### Step 10: Add Total KPI Count and Gold Percentage per Ward-Month\r\n",
    "\r\n",
    "This step calculates:\r\n",
    "- The total number of KPIs recorded per ward per month (`Total_KPIs`)\r\n",
    "- The percentage of those KPIs that achieved a \"Gold\" rating (`Gold_Percentage`)\r\n",
    "\r\n",
    "This provides a quick metric to assess overall monthly performance strength at the ward evel.\r\n"
   ]
  },
  {
   "cell_type": "code",
   "execution_count": null,
   "id": "27b72626-4409-4d17-b91c-a212e362ca52",
   "metadata": {
    "execution": {
     "iopub.execute_input": "2025-06-02T19:18:18.045445Z",
     "iopub.status.busy": "2025-06-02T19:18:18.045160Z",
     "iopub.status.idle": "2025-06-02T19:18:18.058040Z",
     "shell.execute_reply": "2025-06-02T19:18:18.057466Z",
     "shell.execute_reply.started": "2025-06-02T19:18:18.045424Z"
    }
   },
   "outputs": [],
   "source": [
    "# Add total KPI count across categories for each row\n",
    "category_counts['Total_KPIs'] = category_counts[['Gold', 'Silver', 'Bronze', 'Manual', 'White']].sum(axis=1)\n",
    "\n",
    "# Calculate the percentage of Gold-rated KPIs\n",
    "category_counts['Gold_Percentage'] = (category_counts['Gold'] / category_counts['Total_KPIs']) * 100\n",
    "\n",
    "# Preview the updated summary\n",
    "print(\"\\nAdded % Gold column:\")\n",
    "display(category_counts[['Ward', 'Month', 'Gold', 'Total_KPIs', 'Gold_Percentage']].head())"
   ]
  },
  {
   "cell_type": "markdown",
   "id": "a722f08d-e837-40e8-b733-441c77376604",
   "metadata": {},
   "source": [
    "### Step 11: Assign Performance Ratings Based on Gold Percentage\r\n",
    "\r\n",
    "A final performance rating is assigned to each ward-month based on the percentage of KPIs rated as **\"Gold\"**.\r\n",
    "\r\n",
    "This provides a quick, qualitative summary of monthly performance levels:\r\n",
    "\r\n",
    "- **Excellent** \u2013 \u2265 90% of KPIs rated Gold  \r\n",
    "- **Good** \u2013 70% to 89% rated Gold  \r\n",
    "- **Needs Improvement** \u2013 50% to 69% rated Gold  \r\n",
    "- **Needs Attention** \u2013 Less than 50% rd Gold\r\n",
    "\n",
    "\n",
    "\n",
    "tention\r\n"
   ]
  },
  {
   "cell_type": "code",
   "execution_count": null,
   "id": "cd405941-54fe-4c10-bb03-b77f192ff121",
   "metadata": {
    "execution": {
     "iopub.execute_input": "2025-06-02T19:18:18.079512Z",
     "iopub.status.busy": "2025-06-02T19:18:18.079228Z",
     "iopub.status.idle": "2025-06-02T19:18:18.099566Z",
     "shell.execute_reply": "2025-06-02T19:18:18.098949Z",
     "shell.execute_reply.started": "2025-06-02T19:18:18.079493Z"
    }
   },
   "outputs": [],
   "source": [
    "# Step 3: Define performance based on % Gold\n",
    "def overall_performance(pct):\n",
    "    if pct >= 90:\n",
    "        return \"Excellent\"\n",
    "    elif pct >= 70:\n",
    "        return \"Good\"\n",
    "    elif pct >= 50:\n",
    "        return \"Needs Improvement\"\n",
    "    else:\n",
    "        return \"Needs attention\"\n",
    "\n",
    "category_counts['Overall_Performance'] = category_counts['Gold_Percentage'].apply(overall_performance)\n",
    "\n",
    "print(\"\\nFinal Summary Table:\")\n",
    "display(category_counts[['Ward', 'Month', 'Gold_Percentage', 'Overall_Performance']].head())"
   ]
  },
  {
   "cell_type": "markdown",
   "id": "bf9c6120-fa73-4b0d-818c-8594dcc23d60",
   "metadata": {},
   "source": [
    "##  Simulation 1: Stricter Gold Threshold for High-Value KPIs\r\n",
    "\r\n",
    "This simulation explores how performance categorisation would change if the Gold standard were raised from its original value to **97** for KPIs where higher values are better.\r\n",
    "\r\n",
    "**Purpose**:\r\n",
    "- Assess the impact of stricter policy on reported performance\r\n",
    "- Identify KPIs or months that would lose Gold status under tougher criteria\r\n",
    "- Support decision-makers in understanding the sensitivity of current performance levels\r\n",
    "\r\n",
    "Only KPIs with `Direction = \"high\"` are affected  by thi change.\r\n"
   ]
  },
  {
   "cell_type": "code",
   "execution_count": null,
   "id": "07ec8445-b382-44f4-b4c6-852cab57ae92",
   "metadata": {
    "execution": {
     "iopub.execute_input": "2025-06-02T19:18:18.121140Z",
     "iopub.status.busy": "2025-06-02T19:18:18.120656Z",
     "iopub.status.idle": "2025-06-02T19:18:18.148486Z",
     "shell.execute_reply": "2025-06-02T19:18:18.147875Z",
     "shell.execute_reply.started": "2025-06-02T19:18:18.121117Z"
    }
   },
   "outputs": [],
   "source": [
    "# Create a copy of the merged dataset for simulation\n",
    "simulated_data = merged_data.copy()\n",
    "\n",
    "# Tighten the Gold threshold for KPIs where higher values are better\n",
    "simulated_data.loc[simulated_data['Direction'] == 'high', 'Gold_Threshold'] = 97\n",
    "\n",
    "# Re-apply categorisation logic with new threshold\n",
    "simulated_data['Simulated_Category'] = simulated_data.apply(assign_category, axis=1)\n",
    "\n",
    "# Compare original vs simulated categories\n",
    "comparison = simulated_data[['Ward', 'KPI_Name', 'Month', 'KPI_Value', 'Assigned_Category', 'Simulated_Category']]\n",
    "comparison['Changed'] = comparison['Assigned_Category'] != comparison['Simulated_Category']\n",
    "\n",
    "# Display sample results\n",
    "print(\"Sample Simulation Comparison:\")\n",
    "display(comparison.head(10))"
   ]
  },
  {
   "cell_type": "code",
   "execution_count": null,
   "id": "d7d7d23e-2a73-42da-b7b3-eacb6a4c02b8",
   "metadata": {
    "execution": {
     "iopub.execute_input": "2025-06-02T19:18:18.150005Z",
     "iopub.status.busy": "2025-06-02T19:18:18.149479Z",
     "iopub.status.idle": "2025-06-02T19:18:18.158395Z",
     "shell.execute_reply": "2025-06-02T19:18:18.157642Z",
     "shell.execute_reply.started": "2025-06-02T19:18:18.149980Z"
    }
   },
   "outputs": [],
   "source": [
    "# Count how many records changed due to the tighter threshold\n",
    "changed_count = comparison['Changed'].sum()\n",
    "total_rows = comparison.shape[0]\n",
    "change_percentage = (changed_count / total_rows) * 100\n",
    "\n",
    "print(f\"\\nTotal KPIs affected by stricter threshold: {changed_count} out of {total_rows} ({change_percentage:.1f}%)\")"
   ]
  },
  {
   "cell_type": "code",
   "execution_count": null,
   "id": "3ed214b7-a3de-4883-b95c-ea29a0ac7805",
   "metadata": {
    "execution": {
     "iopub.execute_input": "2025-06-02T19:18:18.159571Z",
     "iopub.status.busy": "2025-06-02T19:18:18.159306Z",
     "iopub.status.idle": "2025-06-02T19:18:18.302713Z",
     "shell.execute_reply": "2025-06-02T19:18:18.302120Z",
     "shell.execute_reply.started": "2025-06-02T19:18:18.159552Z"
    }
   },
   "outputs": [],
   "source": [
    "plt.pie(\n",
    "    [comparison['Changed'].sum(), (~comparison['Changed']).sum()],\n",
    "    labels=['Changed', 'Unchanged'],\n",
    "    colors=['#33a02c', '#b2df8a'],\n",
    "    autopct='%1.1f%%',\n",
    "    startangle=90,\n",
    "    explode=[0.1, 0],\n",
    "    textprops={'fontsize': 12}\n",
    ")\n",
    "plt.title(\"Impact of Stricter Gold Threshold\", fontsize=12, weight='bold')\n",
    "plt.tight_layout()\n",
    "plt.show()"
   ]
  },
  {
   "cell_type": "code",
   "execution_count": null,
   "id": "68034e0e-6066-4ccd-ae80-7c7dd29717fb",
   "metadata": {
    "execution": {
     "iopub.execute_input": "2025-06-02T19:18:18.303879Z",
     "iopub.status.busy": "2025-06-02T19:18:18.303561Z",
     "iopub.status.idle": "2025-06-02T19:18:18.582447Z",
     "shell.execute_reply": "2025-06-02T19:18:18.581790Z",
     "shell.execute_reply.started": "2025-06-02T19:18:18.303857Z"
    }
   },
   "outputs": [],
   "source": [
    "# Count category distributions before and after\n",
    "before_counts = merged_data['Assigned_Category'].value_counts().sort_index()\n",
    "after_counts = simulated_data['Simulated_Category'].value_counts().sort_index()\n",
    "\n",
    "# Ensure fixed category order (optional)\n",
    "ordered_categories = ['Gold', 'Silver', 'Bronze', 'Manual', 'White']\n",
    "before_counts = before_counts.reindex(ordered_categories)\n",
    "after_counts = after_counts.reindex(ordered_categories)\n",
    "\n",
    "# Combine into a DataFrame\n",
    "threshold_shift = pd.DataFrame({'Before': before_counts, 'After': after_counts})\n",
    "\n",
    "# Plot grouped bar chart\n",
    "ax = threshold_shift.plot(\n",
    "    kind='bar',\n",
    "    figsize=(7, 4),\n",
    "    color=['skyblue', 'steelblue'],\n",
    "    edgecolor='lightblue'\n",
    ")\n",
    "\n",
    "# Add value labels\n",
    "for bars in ax.containers:\n",
    "    ax.bar_label(bars, fmt='%.0f', label_type='edge', fontsize=8)\n",
    "\n",
    "# Styling\n",
    "plt.title(\"Category Distribution Before vs After Gold Threshold Tightening\", fontsize=12, weight='bold')\n",
    "plt.xlabel(\"Performance Category\")\n",
    "plt.ylabel(\"Number of KPI Results\")\n",
    "plt.xticks(rotation=0)\n",
    "\n",
    "\n",
    "plt.legend(title=\"Simulation Stage\", loc='upper left', bbox_to_anchor=(0, 1))\n",
    "\n",
    "# Clean up border\n",
    "for spine in ['top', 'right']:\n",
    "    ax.spines[spine].set_visible(False)\n",
    "\n",
    "plt.tight_layout()\n",
    "plt.show()"
   ]
  },
  {
   "cell_type": "markdown",
   "id": "78c7bbf1-3e18-4e14-8a80-881bc9124190",
   "metadata": {
    "execution": {
     "iopub.execute_input": "2025-05-23T22:04:39.014706Z",
     "iopub.status.busy": "2025-05-23T22:04:39.013924Z",
     "iopub.status.idle": "2025-05-23T22:04:39.021147Z",
     "shell.execute_reply": "2025-05-23T22:04:39.020142Z",
     "shell.execute_reply.started": "2025-05-23T22:04:39.014671Z"
    }
   },
   "source": [
    "## Simulation 2: Direction-Aware Impact of a 3-Point Performance Drop\r\n",
    "\r\n",
    "This simulation models a realistic decline in performance due to operational pressures such as staffing shortages, seasonal strain, or unexpected disruptions.\r\n",
    "\r\n",
    "**Objective**:  \r\n",
    "To assess how a moderate, direction-sensitive performance shift would affect KPI category assignments.\r\n",
    "\r\n",
    "**Logic Applied**:\r\n",
    "- KPIs where **higher values are better** (e.g., compliance rates): reduced by 3 points  \r\n",
    "- KPIs where **lower values are better** (e.g., incident rates): increased by 3 points  \r\n",
    "- KPIs marked for **manual review** were excluded from the simulation\r\n",
    "\r\n",
    "This direction-aware adjustment helps identify:\r\n",
    "- Which KPIs and wards are most vulnerable to slight underperformance\r\n",
    "- Risk of losing Gold status under operational strain\r\n",
    "- Overall fragility of current high-category performance\r\n",
    "\r\n",
    "The results compare original category assignments to those recalculated after the simulatd value change.\r\n",
    "\n"
   ]
  },
  {
   "cell_type": "code",
   "execution_count": null,
   "id": "b4d6aa2f-f79e-43b7-a6bc-2f747b2a6edf",
   "metadata": {
    "execution": {
     "iopub.execute_input": "2025-06-02T19:18:18.608896Z",
     "iopub.status.busy": "2025-06-02T19:18:18.608598Z",
     "iopub.status.idle": "2025-06-02T19:18:18.650324Z",
     "shell.execute_reply": "2025-06-02T19:18:18.649608Z",
     "shell.execute_reply.started": "2025-06-02T19:18:18.608875Z"
    }
   },
   "outputs": [],
   "source": [
    "# Step 1: Ensure Assigned_Category is correctly populated\n",
    "merged_data['Assigned_Category'] = merged_data.apply(assign_category, axis=1)\n",
    "\n",
    "# Step 2: Create a fresh copy of the dataset for simulation\n",
    "value_drop_sim = merged_data.copy()\n",
    "\n",
    "# Step 3: Apply a direction-aware 3-point simulation\n",
    "# For KPIs where higher is better: subtract 3 points\n",
    "# For KPIs where lower is better: add 3 points (to simulate decline)\n",
    "value_drop_sim['KPI_Value'] = value_drop_sim.apply(\n",
    "    lambda row: (\n",
    "        row['KPI_Value'] - 3 if row['Direction'] == 'high'\n",
    "        else row['KPI_Value'] + 3 if row['Direction'] == 'low'\n",
    "        else row['KPI_Value']\n",
    "    ),\n",
    "    axis=1\n",
    ")\n",
    "\n",
    "# Step 4: Re-apply categorisation logic on the simulated values\n",
    "value_drop_sim['Drop_Category'] = value_drop_sim.apply(assign_category, axis=1)\n",
    "\n",
    "# Step 5: Merge original and simulated data for comparison\n",
    "drop_comparison = pd.merge(\n",
    "    merged_data[['Ward', 'KPI_Name', 'Month', 'KPI_Value', 'Assigned_Category', 'Direction']],\n",
    "    value_drop_sim[['Ward', 'KPI_Name', 'Month', 'KPI_Value', 'Drop_Category']],\n",
    "    on=['Ward', 'KPI_Name', 'Month'],\n",
    "    suffixes=('_Original', '_Simulated')\n",
    ")\n",
    "\n",
    "# Step 6: Identify rows where category has changed\n",
    "drop_comparison['Changed'] = drop_comparison['Assigned_Category'] != drop_comparison['Drop_Category']\n",
    "\n",
    "# Step 7: Filter changes by direction\n",
    "low_direction_changed = drop_comparison[\n",
    "    (drop_comparison['Direction'] == 'low') & (drop_comparison['Changed'])\n",
    "]\n",
    "\n",
    "high_direction_changed = drop_comparison[\n",
    "    (drop_comparison['Direction'] == 'high') & (drop_comparison['Changed'])\n",
    "]"
   ]
  },
  {
   "cell_type": "code",
   "execution_count": null,
   "id": "58138e4f-a523-4a84-9c53-736435ea9453",
   "metadata": {
    "execution": {
     "iopub.execute_input": "2025-06-02T19:18:18.651585Z",
     "iopub.status.busy": "2025-06-02T19:18:18.651275Z",
     "iopub.status.idle": "2025-06-02T19:18:18.673744Z",
     "shell.execute_reply": "2025-06-02T19:18:18.673034Z",
     "shell.execute_reply.started": "2025-06-02T19:18:18.651564Z"
    }
   },
   "outputs": [],
   "source": [
    "# View where low-direction KPIs had category changes\n",
    "low_direction_changed = drop_comparison[\n",
    "    (drop_comparison['Direction'] == 'low') &\n",
    "    (drop_comparison['Changed'] == True)\n",
    "]\n",
    "print(\"\\nLow-direction KPIs with changed categories post-drop (Sample):\")\n",
    "display(low_direction_changed.head())\n",
    "\n",
    "# View where high-direction KPIs had category changes\n",
    "high_direction_changed = drop_comparison[\n",
    "    (drop_comparison['Direction'] == 'high') &\n",
    "    (drop_comparison['Changed'] == True)\n",
    "]\n",
    "print(\"\\nHigh-direction KPIs with changed categories post-drop (Sample):\")\n",
    "display(high_direction_changed.head())"
   ]
  },
  {
   "cell_type": "code",
   "execution_count": null,
   "id": "62008838-7a55-4923-b7bd-abc0d53c9e38",
   "metadata": {},
   "outputs": [],
   "source": []
  },
  {
   "cell_type": "markdown",
   "id": "56e834e2-a9b7-45e6-8fbc-8f28b78c69ba",
   "metadata": {},
   "source": [
    "## Summary of Simulation 2 Impact\r\n",
    "\r\n",
    "The following outputs provide insights into the effects of a direction-aware 3-point performance change on KPI category classifications:\r\n",
    "\r\n",
    "- **Table 1**: Shows the number of KPI category shifts for each Ward and KPI. This helps highlight indicators that are highly sensitive to performance drops and may signal vulnerable areas.\r\n",
    "  \r\n",
    "- **Pie Chart**: Summarises the overall proportion of KPI results that changed versus those that remained stable. This gives a quick sense of how performance categories are impacted under minor adverse shlience.\r\n",
    "ty.\r\n"
   ]
  },
  {
   "cell_type": "code",
   "execution_count": null,
   "id": "9bfc2deb-8e45-474b-9dee-3fc12b9ebd7a",
   "metadata": {
    "execution": {
     "iopub.execute_input": "2025-06-02T19:18:18.700949Z",
     "iopub.status.busy": "2025-06-02T19:18:18.700627Z",
     "iopub.status.idle": "2025-06-02T19:18:18.715149Z",
     "shell.execute_reply": "2025-06-02T19:18:18.714451Z",
     "shell.execute_reply.started": "2025-06-02T19:18:18.700927Z"
    }
   },
   "outputs": [],
   "source": [
    "# Count how many rows changed per Ward and KPI\n",
    "change_summary = drop_comparison.groupby(['Ward', 'KPI_Name'])['Changed'].sum().reset_index()\n",
    "change_summary = change_summary.rename(columns={'Changed': 'Count_Changed'})\n",
    "\n",
    "print(\"Table1:Summary of KPI category changes per Ward:\")\n",
    "display(change_summary)"
   ]
  },
  {
   "cell_type": "code",
   "execution_count": null,
   "id": "000ace83-0a74-46ad-a236-7c723d0f1feb",
   "metadata": {
    "execution": {
     "iopub.execute_input": "2025-06-02T19:18:18.716784Z",
     "iopub.status.busy": "2025-06-02T19:18:18.716175Z",
     "iopub.status.idle": "2025-06-02T19:18:18.896868Z",
     "shell.execute_reply": "2025-06-02T19:18:18.895918Z",
     "shell.execute_reply.started": "2025-06-02T19:18:18.716756Z"
    }
   },
   "outputs": [],
   "source": [
    "# Group and count KPI category changes\n",
    "top_changes = drop_comparison.groupby('KPI_Name')['Changed'].sum().reset_index()\n",
    "top_changes.columns = ['KPI_Name', 'Count_Changed']\n",
    "\n",
    "# Filter out KPIs with zero changes and sort descending\n",
    "top_changes_filtered = top_changes[top_changes['Count_Changed'] > 0]\n",
    "top_changes_filtered = top_changes_filtered.sort_values('Count_Changed', ascending=True)  # for horizontal barh chart, lowest at bottom\n",
    "\n",
    "# Create green gradient color palette\n",
    "colors = sns.color_palette(\"Greens\", n_colors=len(top_changes_filtered))\n",
    "\n",
    "# Plot\n",
    "plt.figure(figsize=(7, 3))\n",
    "bars = plt.barh(\n",
    "    top_changes_filtered['KPI_Name'],\n",
    "    top_changes_filtered['Count_Changed'],\n",
    "    color=colors,\n",
    "    edgecolor='black'\n",
    ")\n",
    "\n",
    "# Add value labels\n",
    "for bar in bars:\n",
    "    width = bar.get_width()\n",
    "    plt.text(width + 1, bar.get_y() + bar.get_height() / 2, f'{int(width)}', va='center', fontsize=9)\n",
    "\n",
    "# Styling\n",
    "plt.title('KPIs Most Affected by 3-Point Value Drop', fontsize=13, weight='bold')\n",
    "plt.xlabel('Number of KPI Category Changes')\n",
    "plt.ylabel('KPIs')\n",
    "plt.grid(axis='x', linestyle='--', alpha=0.6)\n",
    "for spine in ['top', 'right']:\n",
    "    plt.gca().spines[spine].set_visible(False)\n",
    "\n",
    "plt.tight_layout()\n",
    "plt.show()"
   ]
  },
  {
   "cell_type": "code",
   "execution_count": null,
   "id": "90bedd64-54a5-4e9f-9a3f-c189e245b91d",
   "metadata": {
    "execution": {
     "iopub.execute_input": "2025-06-02T19:18:18.898212Z",
     "iopub.status.busy": "2025-06-02T19:18:18.897918Z",
     "iopub.status.idle": "2025-06-02T19:18:18.903125Z",
     "shell.execute_reply": "2025-06-02T19:18:18.902478Z",
     "shell.execute_reply.started": "2025-06-02T19:18:18.898180Z"
    }
   },
   "outputs": [],
   "source": [
    "# Summary of total changes caused by performance drop\n",
    "drop_impact = drop_comparison['Changed'].sum()\n",
    "total_records = drop_comparison.shape[0]\n",
    "drop_rate = (drop_impact / total_records) * 100\n",
    "\n",
    "print(f\"\\nTotal KPIs affected by 3-point drop: {drop_impact} out of {total_records} ({drop_rate:.1f}%)\")"
   ]
  },
  {
   "cell_type": "code",
   "execution_count": null,
   "id": "aefb0331-5971-4e21-b6c0-9900aa99a351",
   "metadata": {
    "execution": {
     "iopub.execute_input": "2025-06-02T19:18:18.904197Z",
     "iopub.status.busy": "2025-06-02T19:18:18.903937Z",
     "iopub.status.idle": "2025-06-02T19:18:19.010815Z",
     "shell.execute_reply": "2025-06-02T19:18:19.010030Z",
     "shell.execute_reply.started": "2025-06-02T19:18:18.904177Z"
    }
   },
   "outputs": [],
   "source": [
    "# Count Changed vs Unchanged rows\n",
    "change_counts = drop_comparison['Changed'].value_counts()\n",
    "labels = ['Unchanged', 'Changed']\n",
    "colors = ['#b2df8a', '#33a02c']  # Green tones\n",
    "\n",
    "# Plot pie chart\n",
    "plt.figure(figsize=(4, 4))\n",
    "plt.pie(\n",
    "    change_counts,\n",
    "    labels=labels,\n",
    "    autopct='%1.1f%%',\n",
    "    startangle=90,\n",
    "    colors=colors,\n",
    "    textprops={'fontsize': 10}\n",
    ")\n",
    "\n",
    "plt.title('Overall Impact of 3-Point Value Drop', fontsize=10, weight='bold')\n",
    "plt.tight_layout()\n",
    "plt.show()"
   ]
  },
  {
   "cell_type": "code",
   "execution_count": null,
   "id": "25b03185-34cd-49bf-8619-9c220617948a",
   "metadata": {},
   "outputs": [],
   "source": []
  },
  {
   "cell_type": "markdown",
   "id": "75ddb812-abdd-4fd9-978f-07a28d0022ff",
   "metadata": {},
   "source": [
    "## Summary ##\n",
    "This project aimed to resolve inconsistencies in ward-level KPI reporting by developing an automated, logic-driven categorisation and simulation tool. By integrating structured threshold logic, direction-aware value interpretation, and performance shift simulations, the solution standardises evaluation across wards and enhances audit transparency.\n",
    "\n",
    "Through this implementation, NHS teams can:\n",
    "\n",
    "-Reduce manual data handling time\n",
    "\n",
    "-Identify performance risk areas more reliably\n",
    "\n",
    "-Support evidence-based decision making for accreditation and improvement.\n",
    "\n",
    "This notebook serves as a foundation for reproducible KPI analysis, adaptable to future changes in reporting standards or policy scenarios."
   ]
  }
 ],
 "metadata": {
  "kernelspec": {
   "display_name": "anaconda-2024.02-py310",
   "language": "python",
   "name": "conda-env-anaconda-2024.02-py310-py"
  },
  "language_info": {
   "codemirror_mode": {
    "name": "ipython",
    "version": 3
   },
   "file_extension": ".py",
   "mimetype": "text/x-python",
   "name": "python",
   "nbconvert_exporter": "python",
   "pygments_lexer": "ipython3",
   "version": "3.10.14"
  },
  "panel-cell-order": [
   "5f968501-cf69-4b27-8b68-23c05b20b789",
   "bd41fc86-205c-43d5-87dc-f0c67b14b07f",
   "9dad271e-8e78-4eb1-916e-b3e9c0ae1295",
   "ea14fc8d-236d-42ac-80d6-3d7540e22361",
   "fe53ae6d-e7f3-448e-a82d-1eca884724ed",
   "f03abe1a-102f-4040-8544-ac52590e4ab5",
   "b2434aea-eba5-4b5d-aa48-b6f692c27b92",
   "3d260940-07ac-465a-aeb4-9b077dd1d395",
   "8801e8f8-6519-41e5-b143-4b22c4a48db6"
  ]
 },
 "nbformat": 4,
 "nbformat_minor": 5
}
